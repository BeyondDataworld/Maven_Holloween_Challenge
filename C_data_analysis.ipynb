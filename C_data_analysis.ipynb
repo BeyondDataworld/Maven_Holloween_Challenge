{
 "cells": [
  {
   "cell_type": "code",
   "execution_count": 1,
   "metadata": {},
   "outputs": [
    {
     "name": "stderr",
     "output_type": "stream",
     "text": [
      "c:\\Users\\440 G6\\anaconda3\\lib\\site-packages\\pandas\\core\\computation\\expressions.py:21: UserWarning: Pandas requires version '2.8.4' or newer of 'numexpr' (version '2.8.3' currently installed).\n",
      "  from pandas.core.computation.check import NUMEXPR_INSTALLED\n",
      "c:\\Users\\440 G6\\anaconda3\\lib\\site-packages\\pandas\\core\\arrays\\masked.py:60: UserWarning: Pandas requires version '1.3.6' or newer of 'bottleneck' (version '1.3.5' currently installed).\n",
      "  from pandas.core import (\n",
      "c:\\Users\\440 G6\\anaconda3\\lib\\site-packages\\scipy\\__init__.py:155: UserWarning: A NumPy version >=1.18.5 and <1.25.0 is required for this version of SciPy (detected version 1.26.4\n",
      "  warnings.warn(f\"A NumPy version >={np_minversion} and <{np_maxversion}\"\n"
     ]
    }
   ],
   "source": [
    "import pandas as pd\n",
    "import plotly.express as px\n",
    "import dash\n",
    "from dash import Dash, Input, html, Output, dcc"
   ]
  },
  {
   "cell_type": "code",
   "execution_count": 2,
   "metadata": {},
   "outputs": [
    {
     "data": {
      "text/html": [
       "<div>\n",
       "<style scoped>\n",
       "    .dataframe tbody tr th:only-of-type {\n",
       "        vertical-align: middle;\n",
       "    }\n",
       "\n",
       "    .dataframe tbody tr th {\n",
       "        vertical-align: top;\n",
       "    }\n",
       "\n",
       "    .dataframe thead th {\n",
       "        text-align: right;\n",
       "    }\n",
       "</style>\n",
       "<table border=\"1\" class=\"dataframe\">\n",
       "  <thead>\n",
       "    <tr style=\"text-align: right;\">\n",
       "      <th></th>\n",
       "      <th>competitorname</th>\n",
       "      <th>chocolate</th>\n",
       "      <th>fruity</th>\n",
       "      <th>caramel</th>\n",
       "      <th>peanutyalmondy</th>\n",
       "      <th>nougat</th>\n",
       "      <th>crispedricewafer</th>\n",
       "      <th>hard</th>\n",
       "      <th>bar</th>\n",
       "      <th>pluribus</th>\n",
       "      <th>sugarpercent</th>\n",
       "      <th>pricepercent</th>\n",
       "      <th>winpercent</th>\n",
       "    </tr>\n",
       "  </thead>\n",
       "  <tbody>\n",
       "    <tr>\n",
       "      <th>0</th>\n",
       "      <td>100 Grand</td>\n",
       "      <td>1</td>\n",
       "      <td>0</td>\n",
       "      <td>1</td>\n",
       "      <td>0</td>\n",
       "      <td>0</td>\n",
       "      <td>1</td>\n",
       "      <td>0</td>\n",
       "      <td>1</td>\n",
       "      <td>0</td>\n",
       "      <td>0.732</td>\n",
       "      <td>0.860</td>\n",
       "      <td>66.971725</td>\n",
       "    </tr>\n",
       "    <tr>\n",
       "      <th>1</th>\n",
       "      <td>3 Musketeers</td>\n",
       "      <td>1</td>\n",
       "      <td>0</td>\n",
       "      <td>0</td>\n",
       "      <td>0</td>\n",
       "      <td>1</td>\n",
       "      <td>0</td>\n",
       "      <td>0</td>\n",
       "      <td>1</td>\n",
       "      <td>0</td>\n",
       "      <td>0.604</td>\n",
       "      <td>0.511</td>\n",
       "      <td>67.602936</td>\n",
       "    </tr>\n",
       "    <tr>\n",
       "      <th>2</th>\n",
       "      <td>One dime</td>\n",
       "      <td>0</td>\n",
       "      <td>0</td>\n",
       "      <td>0</td>\n",
       "      <td>0</td>\n",
       "      <td>0</td>\n",
       "      <td>0</td>\n",
       "      <td>0</td>\n",
       "      <td>0</td>\n",
       "      <td>0</td>\n",
       "      <td>0.011</td>\n",
       "      <td>0.116</td>\n",
       "      <td>32.261086</td>\n",
       "    </tr>\n",
       "    <tr>\n",
       "      <th>3</th>\n",
       "      <td>One quarter</td>\n",
       "      <td>0</td>\n",
       "      <td>0</td>\n",
       "      <td>0</td>\n",
       "      <td>0</td>\n",
       "      <td>0</td>\n",
       "      <td>0</td>\n",
       "      <td>0</td>\n",
       "      <td>0</td>\n",
       "      <td>0</td>\n",
       "      <td>0.011</td>\n",
       "      <td>0.511</td>\n",
       "      <td>46.116505</td>\n",
       "    </tr>\n",
       "    <tr>\n",
       "      <th>4</th>\n",
       "      <td>Air Heads</td>\n",
       "      <td>0</td>\n",
       "      <td>1</td>\n",
       "      <td>0</td>\n",
       "      <td>0</td>\n",
       "      <td>0</td>\n",
       "      <td>0</td>\n",
       "      <td>0</td>\n",
       "      <td>0</td>\n",
       "      <td>0</td>\n",
       "      <td>0.906</td>\n",
       "      <td>0.511</td>\n",
       "      <td>52.341465</td>\n",
       "    </tr>\n",
       "  </tbody>\n",
       "</table>\n",
       "</div>"
      ],
      "text/plain": [
       "  competitorname  chocolate  fruity  caramel  peanutyalmondy  nougat  \\\n",
       "0      100 Grand          1       0        1               0       0   \n",
       "1   3 Musketeers          1       0        0               0       1   \n",
       "2       One dime          0       0        0               0       0   \n",
       "3    One quarter          0       0        0               0       0   \n",
       "4      Air Heads          0       1        0               0       0   \n",
       "\n",
       "   crispedricewafer  hard  bar  pluribus  sugarpercent  pricepercent  \\\n",
       "0                 1     0    1         0         0.732         0.860   \n",
       "1                 0     0    1         0         0.604         0.511   \n",
       "2                 0     0    0         0         0.011         0.116   \n",
       "3                 0     0    0         0         0.011         0.511   \n",
       "4                 0     0    0         0         0.906         0.511   \n",
       "\n",
       "   winpercent  \n",
       "0   66.971725  \n",
       "1   67.602936  \n",
       "2   32.261086  \n",
       "3   46.116505  \n",
       "4   52.341465  "
      ]
     },
     "execution_count": 2,
     "metadata": {},
     "output_type": "execute_result"
    }
   ],
   "source": [
    "df = pd.read_csv('candy-data.csv')\n",
    "df.head()"
   ]
  },
  {
   "cell_type": "code",
   "execution_count": 3,
   "metadata": {},
   "outputs": [],
   "source": [
    "df.columns =  df.columns.str.capitalize()"
   ]
  },
  {
   "cell_type": "code",
   "execution_count": 4,
   "metadata": {},
   "outputs": [
    {
     "data": {
      "text/html": [
       "<div>\n",
       "<style scoped>\n",
       "    .dataframe tbody tr th:only-of-type {\n",
       "        vertical-align: middle;\n",
       "    }\n",
       "\n",
       "    .dataframe tbody tr th {\n",
       "        vertical-align: top;\n",
       "    }\n",
       "\n",
       "    .dataframe thead th {\n",
       "        text-align: right;\n",
       "    }\n",
       "</style>\n",
       "<table border=\"1\" class=\"dataframe\">\n",
       "  <thead>\n",
       "    <tr style=\"text-align: right;\">\n",
       "      <th></th>\n",
       "      <th>Chocolate</th>\n",
       "      <th>Fruity</th>\n",
       "      <th>Caramel</th>\n",
       "      <th>Peanutyalmondy</th>\n",
       "      <th>Nougat</th>\n",
       "      <th>Crispedricewafer</th>\n",
       "      <th>Hard</th>\n",
       "      <th>Bar</th>\n",
       "      <th>Pluribus</th>\n",
       "      <th>Sugarpercent</th>\n",
       "      <th>Pricepercent</th>\n",
       "      <th>Winpercent</th>\n",
       "    </tr>\n",
       "  </thead>\n",
       "  <tbody>\n",
       "    <tr>\n",
       "      <th>Chocolate</th>\n",
       "      <td>1.000000</td>\n",
       "      <td>-0.741721</td>\n",
       "      <td>0.249875</td>\n",
       "      <td>0.377824</td>\n",
       "      <td>0.254892</td>\n",
       "      <td>0.341210</td>\n",
       "      <td>-0.344177</td>\n",
       "      <td>0.597421</td>\n",
       "      <td>-0.339675</td>\n",
       "      <td>0.104169</td>\n",
       "      <td>0.504675</td>\n",
       "      <td>0.636517</td>\n",
       "    </tr>\n",
       "    <tr>\n",
       "      <th>Fruity</th>\n",
       "      <td>-0.741721</td>\n",
       "      <td>1.000000</td>\n",
       "      <td>-0.335485</td>\n",
       "      <td>-0.399280</td>\n",
       "      <td>-0.269367</td>\n",
       "      <td>-0.269367</td>\n",
       "      <td>0.390678</td>\n",
       "      <td>-0.515066</td>\n",
       "      <td>0.299725</td>\n",
       "      <td>-0.034393</td>\n",
       "      <td>-0.430969</td>\n",
       "      <td>-0.380938</td>\n",
       "    </tr>\n",
       "    <tr>\n",
       "      <th>Caramel</th>\n",
       "      <td>0.249875</td>\n",
       "      <td>-0.335485</td>\n",
       "      <td>1.000000</td>\n",
       "      <td>0.059356</td>\n",
       "      <td>0.328493</td>\n",
       "      <td>0.213113</td>\n",
       "      <td>-0.122355</td>\n",
       "      <td>0.333960</td>\n",
       "      <td>-0.269585</td>\n",
       "      <td>0.221933</td>\n",
       "      <td>0.254327</td>\n",
       "      <td>0.213416</td>\n",
       "    </tr>\n",
       "    <tr>\n",
       "      <th>Peanutyalmondy</th>\n",
       "      <td>0.377824</td>\n",
       "      <td>-0.399280</td>\n",
       "      <td>0.059356</td>\n",
       "      <td>1.000000</td>\n",
       "      <td>0.213113</td>\n",
       "      <td>-0.017646</td>\n",
       "      <td>-0.205557</td>\n",
       "      <td>0.260420</td>\n",
       "      <td>-0.206109</td>\n",
       "      <td>0.087889</td>\n",
       "      <td>0.309153</td>\n",
       "      <td>0.406192</td>\n",
       "    </tr>\n",
       "    <tr>\n",
       "      <th>Nougat</th>\n",
       "      <td>0.254892</td>\n",
       "      <td>-0.269367</td>\n",
       "      <td>0.328493</td>\n",
       "      <td>0.213113</td>\n",
       "      <td>1.000000</td>\n",
       "      <td>-0.089744</td>\n",
       "      <td>-0.138675</td>\n",
       "      <td>0.522976</td>\n",
       "      <td>-0.310339</td>\n",
       "      <td>0.123081</td>\n",
       "      <td>0.153196</td>\n",
       "      <td>0.199375</td>\n",
       "    </tr>\n",
       "    <tr>\n",
       "      <th>Crispedricewafer</th>\n",
       "      <td>0.341210</td>\n",
       "      <td>-0.269367</td>\n",
       "      <td>0.213113</td>\n",
       "      <td>-0.017646</td>\n",
       "      <td>-0.089744</td>\n",
       "      <td>1.000000</td>\n",
       "      <td>-0.138675</td>\n",
       "      <td>0.423751</td>\n",
       "      <td>-0.224693</td>\n",
       "      <td>0.069950</td>\n",
       "      <td>0.328265</td>\n",
       "      <td>0.324680</td>\n",
       "    </tr>\n",
       "    <tr>\n",
       "      <th>Hard</th>\n",
       "      <td>-0.344177</td>\n",
       "      <td>0.390678</td>\n",
       "      <td>-0.122355</td>\n",
       "      <td>-0.205557</td>\n",
       "      <td>-0.138675</td>\n",
       "      <td>-0.138675</td>\n",
       "      <td>1.000000</td>\n",
       "      <td>-0.265165</td>\n",
       "      <td>0.014532</td>\n",
       "      <td>0.091810</td>\n",
       "      <td>-0.244365</td>\n",
       "      <td>-0.310382</td>\n",
       "    </tr>\n",
       "    <tr>\n",
       "      <th>Bar</th>\n",
       "      <td>0.597421</td>\n",
       "      <td>-0.515066</td>\n",
       "      <td>0.333960</td>\n",
       "      <td>0.260420</td>\n",
       "      <td>0.522976</td>\n",
       "      <td>0.423751</td>\n",
       "      <td>-0.265165</td>\n",
       "      <td>1.000000</td>\n",
       "      <td>-0.593409</td>\n",
       "      <td>0.099985</td>\n",
       "      <td>0.518407</td>\n",
       "      <td>0.429929</td>\n",
       "    </tr>\n",
       "    <tr>\n",
       "      <th>Pluribus</th>\n",
       "      <td>-0.339675</td>\n",
       "      <td>0.299725</td>\n",
       "      <td>-0.269585</td>\n",
       "      <td>-0.206109</td>\n",
       "      <td>-0.310339</td>\n",
       "      <td>-0.224693</td>\n",
       "      <td>0.014532</td>\n",
       "      <td>-0.593409</td>\n",
       "      <td>1.000000</td>\n",
       "      <td>0.045523</td>\n",
       "      <td>-0.220794</td>\n",
       "      <td>-0.247448</td>\n",
       "    </tr>\n",
       "    <tr>\n",
       "      <th>Sugarpercent</th>\n",
       "      <td>0.104169</td>\n",
       "      <td>-0.034393</td>\n",
       "      <td>0.221933</td>\n",
       "      <td>0.087889</td>\n",
       "      <td>0.123081</td>\n",
       "      <td>0.069950</td>\n",
       "      <td>0.091810</td>\n",
       "      <td>0.099985</td>\n",
       "      <td>0.045523</td>\n",
       "      <td>1.000000</td>\n",
       "      <td>0.329706</td>\n",
       "      <td>0.229151</td>\n",
       "    </tr>\n",
       "    <tr>\n",
       "      <th>Pricepercent</th>\n",
       "      <td>0.504675</td>\n",
       "      <td>-0.430969</td>\n",
       "      <td>0.254327</td>\n",
       "      <td>0.309153</td>\n",
       "      <td>0.153196</td>\n",
       "      <td>0.328265</td>\n",
       "      <td>-0.244365</td>\n",
       "      <td>0.518407</td>\n",
       "      <td>-0.220794</td>\n",
       "      <td>0.329706</td>\n",
       "      <td>1.000000</td>\n",
       "      <td>0.345325</td>\n",
       "    </tr>\n",
       "    <tr>\n",
       "      <th>Winpercent</th>\n",
       "      <td>0.636517</td>\n",
       "      <td>-0.380938</td>\n",
       "      <td>0.213416</td>\n",
       "      <td>0.406192</td>\n",
       "      <td>0.199375</td>\n",
       "      <td>0.324680</td>\n",
       "      <td>-0.310382</td>\n",
       "      <td>0.429929</td>\n",
       "      <td>-0.247448</td>\n",
       "      <td>0.229151</td>\n",
       "      <td>0.345325</td>\n",
       "      <td>1.000000</td>\n",
       "    </tr>\n",
       "  </tbody>\n",
       "</table>\n",
       "</div>"
      ],
      "text/plain": [
       "                  Chocolate    Fruity   Caramel  Peanutyalmondy    Nougat  \\\n",
       "Chocolate          1.000000 -0.741721  0.249875        0.377824  0.254892   \n",
       "Fruity            -0.741721  1.000000 -0.335485       -0.399280 -0.269367   \n",
       "Caramel            0.249875 -0.335485  1.000000        0.059356  0.328493   \n",
       "Peanutyalmondy     0.377824 -0.399280  0.059356        1.000000  0.213113   \n",
       "Nougat             0.254892 -0.269367  0.328493        0.213113  1.000000   \n",
       "Crispedricewafer   0.341210 -0.269367  0.213113       -0.017646 -0.089744   \n",
       "Hard              -0.344177  0.390678 -0.122355       -0.205557 -0.138675   \n",
       "Bar                0.597421 -0.515066  0.333960        0.260420  0.522976   \n",
       "Pluribus          -0.339675  0.299725 -0.269585       -0.206109 -0.310339   \n",
       "Sugarpercent       0.104169 -0.034393  0.221933        0.087889  0.123081   \n",
       "Pricepercent       0.504675 -0.430969  0.254327        0.309153  0.153196   \n",
       "Winpercent         0.636517 -0.380938  0.213416        0.406192  0.199375   \n",
       "\n",
       "                  Crispedricewafer      Hard       Bar  Pluribus  \\\n",
       "Chocolate                 0.341210 -0.344177  0.597421 -0.339675   \n",
       "Fruity                   -0.269367  0.390678 -0.515066  0.299725   \n",
       "Caramel                   0.213113 -0.122355  0.333960 -0.269585   \n",
       "Peanutyalmondy           -0.017646 -0.205557  0.260420 -0.206109   \n",
       "Nougat                   -0.089744 -0.138675  0.522976 -0.310339   \n",
       "Crispedricewafer          1.000000 -0.138675  0.423751 -0.224693   \n",
       "Hard                     -0.138675  1.000000 -0.265165  0.014532   \n",
       "Bar                       0.423751 -0.265165  1.000000 -0.593409   \n",
       "Pluribus                 -0.224693  0.014532 -0.593409  1.000000   \n",
       "Sugarpercent              0.069950  0.091810  0.099985  0.045523   \n",
       "Pricepercent              0.328265 -0.244365  0.518407 -0.220794   \n",
       "Winpercent                0.324680 -0.310382  0.429929 -0.247448   \n",
       "\n",
       "                  Sugarpercent  Pricepercent  Winpercent  \n",
       "Chocolate             0.104169      0.504675    0.636517  \n",
       "Fruity               -0.034393     -0.430969   -0.380938  \n",
       "Caramel               0.221933      0.254327    0.213416  \n",
       "Peanutyalmondy        0.087889      0.309153    0.406192  \n",
       "Nougat                0.123081      0.153196    0.199375  \n",
       "Crispedricewafer      0.069950      0.328265    0.324680  \n",
       "Hard                  0.091810     -0.244365   -0.310382  \n",
       "Bar                   0.099985      0.518407    0.429929  \n",
       "Pluribus              0.045523     -0.220794   -0.247448  \n",
       "Sugarpercent          1.000000      0.329706    0.229151  \n",
       "Pricepercent          0.329706      1.000000    0.345325  \n",
       "Winpercent            0.229151      0.345325    1.000000  "
      ]
     },
     "execution_count": 4,
     "metadata": {},
     "output_type": "execute_result"
    }
   ],
   "source": [
    "df.iloc[:,1:].corr()"
   ]
  },
  {
   "cell_type": "code",
   "execution_count": 5,
   "metadata": {},
   "outputs": [],
   "source": [
    "dff = df.copy()"
   ]
  },
  {
   "cell_type": "code",
   "execution_count": 6,
   "metadata": {},
   "outputs": [
    {
     "data": {
      "text/html": [
       "<div>\n",
       "<style scoped>\n",
       "    .dataframe tbody tr th:only-of-type {\n",
       "        vertical-align: middle;\n",
       "    }\n",
       "\n",
       "    .dataframe tbody tr th {\n",
       "        vertical-align: top;\n",
       "    }\n",
       "\n",
       "    .dataframe thead th {\n",
       "        text-align: right;\n",
       "    }\n",
       "</style>\n",
       "<table border=\"1\" class=\"dataframe\">\n",
       "  <thead>\n",
       "    <tr style=\"text-align: right;\">\n",
       "      <th></th>\n",
       "      <th>Competitorname</th>\n",
       "      <th>Chocolate</th>\n",
       "      <th>Fruity</th>\n",
       "      <th>Caramel</th>\n",
       "      <th>Peanutyalmondy</th>\n",
       "      <th>Nougat</th>\n",
       "      <th>Crispedricewafer</th>\n",
       "      <th>Hard</th>\n",
       "      <th>Bar</th>\n",
       "      <th>Pluribus</th>\n",
       "      <th>Sugarpercent</th>\n",
       "      <th>Pricepercent</th>\n",
       "      <th>Winpercent</th>\n",
       "    </tr>\n",
       "  </thead>\n",
       "  <tbody>\n",
       "    <tr>\n",
       "      <th>52</th>\n",
       "      <td>Reese's Peanut Butter cup</td>\n",
       "      <td>1</td>\n",
       "      <td>0</td>\n",
       "      <td>0</td>\n",
       "      <td>1</td>\n",
       "      <td>0</td>\n",
       "      <td>0</td>\n",
       "      <td>0</td>\n",
       "      <td>0</td>\n",
       "      <td>0</td>\n",
       "      <td>0.720</td>\n",
       "      <td>0.651</td>\n",
       "      <td>84.180290</td>\n",
       "    </tr>\n",
       "    <tr>\n",
       "      <th>51</th>\n",
       "      <td>Reese's Miniatures</td>\n",
       "      <td>1</td>\n",
       "      <td>0</td>\n",
       "      <td>0</td>\n",
       "      <td>1</td>\n",
       "      <td>0</td>\n",
       "      <td>0</td>\n",
       "      <td>0</td>\n",
       "      <td>0</td>\n",
       "      <td>0</td>\n",
       "      <td>0.034</td>\n",
       "      <td>0.279</td>\n",
       "      <td>81.866257</td>\n",
       "    </tr>\n",
       "    <tr>\n",
       "      <th>79</th>\n",
       "      <td>Twix</td>\n",
       "      <td>1</td>\n",
       "      <td>0</td>\n",
       "      <td>1</td>\n",
       "      <td>0</td>\n",
       "      <td>0</td>\n",
       "      <td>1</td>\n",
       "      <td>0</td>\n",
       "      <td>1</td>\n",
       "      <td>0</td>\n",
       "      <td>0.546</td>\n",
       "      <td>0.906</td>\n",
       "      <td>81.642914</td>\n",
       "    </tr>\n",
       "    <tr>\n",
       "      <th>28</th>\n",
       "      <td>Kit Kat</td>\n",
       "      <td>1</td>\n",
       "      <td>0</td>\n",
       "      <td>0</td>\n",
       "      <td>0</td>\n",
       "      <td>0</td>\n",
       "      <td>1</td>\n",
       "      <td>0</td>\n",
       "      <td>1</td>\n",
       "      <td>0</td>\n",
       "      <td>0.313</td>\n",
       "      <td>0.511</td>\n",
       "      <td>76.768600</td>\n",
       "    </tr>\n",
       "    <tr>\n",
       "      <th>64</th>\n",
       "      <td>Snickers</td>\n",
       "      <td>1</td>\n",
       "      <td>0</td>\n",
       "      <td>1</td>\n",
       "      <td>1</td>\n",
       "      <td>1</td>\n",
       "      <td>0</td>\n",
       "      <td>0</td>\n",
       "      <td>1</td>\n",
       "      <td>0</td>\n",
       "      <td>0.546</td>\n",
       "      <td>0.651</td>\n",
       "      <td>76.673782</td>\n",
       "    </tr>\n",
       "    <tr>\n",
       "      <th>...</th>\n",
       "      <td>...</td>\n",
       "      <td>...</td>\n",
       "      <td>...</td>\n",
       "      <td>...</td>\n",
       "      <td>...</td>\n",
       "      <td>...</td>\n",
       "      <td>...</td>\n",
       "      <td>...</td>\n",
       "      <td>...</td>\n",
       "      <td>...</td>\n",
       "      <td>...</td>\n",
       "      <td>...</td>\n",
       "      <td>...</td>\n",
       "    </tr>\n",
       "    <tr>\n",
       "      <th>26</th>\n",
       "      <td>Jawbusters</td>\n",
       "      <td>0</td>\n",
       "      <td>1</td>\n",
       "      <td>0</td>\n",
       "      <td>0</td>\n",
       "      <td>0</td>\n",
       "      <td>0</td>\n",
       "      <td>1</td>\n",
       "      <td>0</td>\n",
       "      <td>1</td>\n",
       "      <td>0.093</td>\n",
       "      <td>0.511</td>\n",
       "      <td>28.127439</td>\n",
       "    </tr>\n",
       "    <tr>\n",
       "      <th>72</th>\n",
       "      <td>Super Bubble</td>\n",
       "      <td>0</td>\n",
       "      <td>1</td>\n",
       "      <td>0</td>\n",
       "      <td>0</td>\n",
       "      <td>0</td>\n",
       "      <td>0</td>\n",
       "      <td>0</td>\n",
       "      <td>0</td>\n",
       "      <td>0</td>\n",
       "      <td>0.162</td>\n",
       "      <td>0.116</td>\n",
       "      <td>27.303865</td>\n",
       "    </tr>\n",
       "    <tr>\n",
       "      <th>12</th>\n",
       "      <td>Chiclets</td>\n",
       "      <td>0</td>\n",
       "      <td>1</td>\n",
       "      <td>0</td>\n",
       "      <td>0</td>\n",
       "      <td>0</td>\n",
       "      <td>0</td>\n",
       "      <td>0</td>\n",
       "      <td>0</td>\n",
       "      <td>1</td>\n",
       "      <td>0.046</td>\n",
       "      <td>0.325</td>\n",
       "      <td>24.524988</td>\n",
       "    </tr>\n",
       "    <tr>\n",
       "      <th>7</th>\n",
       "      <td>Boston Baked Beans</td>\n",
       "      <td>0</td>\n",
       "      <td>0</td>\n",
       "      <td>0</td>\n",
       "      <td>1</td>\n",
       "      <td>0</td>\n",
       "      <td>0</td>\n",
       "      <td>0</td>\n",
       "      <td>0</td>\n",
       "      <td>1</td>\n",
       "      <td>0.313</td>\n",
       "      <td>0.511</td>\n",
       "      <td>23.417824</td>\n",
       "    </tr>\n",
       "    <tr>\n",
       "      <th>44</th>\n",
       "      <td>Nik L Nip</td>\n",
       "      <td>0</td>\n",
       "      <td>1</td>\n",
       "      <td>0</td>\n",
       "      <td>0</td>\n",
       "      <td>0</td>\n",
       "      <td>0</td>\n",
       "      <td>0</td>\n",
       "      <td>0</td>\n",
       "      <td>1</td>\n",
       "      <td>0.197</td>\n",
       "      <td>0.976</td>\n",
       "      <td>22.445341</td>\n",
       "    </tr>\n",
       "  </tbody>\n",
       "</table>\n",
       "<p>85 rows × 13 columns</p>\n",
       "</div>"
      ],
      "text/plain": [
       "               Competitorname  Chocolate  Fruity  Caramel  Peanutyalmondy  \\\n",
       "52  Reese's Peanut Butter cup          1       0        0               1   \n",
       "51         Reese's Miniatures          1       0        0               1   \n",
       "79                       Twix          1       0        1               0   \n",
       "28                    Kit Kat          1       0        0               0   \n",
       "64                   Snickers          1       0        1               1   \n",
       "..                        ...        ...     ...      ...             ...   \n",
       "26                 Jawbusters          0       1        0               0   \n",
       "72               Super Bubble          0       1        0               0   \n",
       "12                   Chiclets          0       1        0               0   \n",
       "7          Boston Baked Beans          0       0        0               1   \n",
       "44                  Nik L Nip          0       1        0               0   \n",
       "\n",
       "    Nougat  Crispedricewafer  Hard  Bar  Pluribus  Sugarpercent  Pricepercent  \\\n",
       "52       0                 0     0    0         0         0.720         0.651   \n",
       "51       0                 0     0    0         0         0.034         0.279   \n",
       "79       0                 1     0    1         0         0.546         0.906   \n",
       "28       0                 1     0    1         0         0.313         0.511   \n",
       "64       1                 0     0    1         0         0.546         0.651   \n",
       "..     ...               ...   ...  ...       ...           ...           ...   \n",
       "26       0                 0     1    0         1         0.093         0.511   \n",
       "72       0                 0     0    0         0         0.162         0.116   \n",
       "12       0                 0     0    0         1         0.046         0.325   \n",
       "7        0                 0     0    0         1         0.313         0.511   \n",
       "44       0                 0     0    0         1         0.197         0.976   \n",
       "\n",
       "    Winpercent  \n",
       "52   84.180290  \n",
       "51   81.866257  \n",
       "79   81.642914  \n",
       "28   76.768600  \n",
       "64   76.673782  \n",
       "..         ...  \n",
       "26   28.127439  \n",
       "72   27.303865  \n",
       "12   24.524988  \n",
       "7    23.417824  \n",
       "44   22.445341  \n",
       "\n",
       "[85 rows x 13 columns]"
      ]
     },
     "execution_count": 6,
     "metadata": {},
     "output_type": "execute_result"
    }
   ],
   "source": [
    "dff.sort_values(by='Winpercent', ascending=False)"
   ]
  },
  {
   "cell_type": "code",
   "execution_count": 7,
   "metadata": {},
   "outputs": [
    {
     "data": {
      "application/vnd.plotly.v1+json": {
       "config": {
        "plotlyServerURL": "https://plot.ly"
       },
       "data": [
        {
         "alignmentgroup": "True",
         "hovertemplate": "Sugarpercent=%{x}<br>Competitorname=%{y}<extra></extra>",
         "legendgroup": "",
         "marker": {
          "color": "#1F77B4",
          "pattern": {
           "shape": ""
          }
         },
         "name": "",
         "offsetgroup": "",
         "orientation": "h",
         "showlegend": false,
         "textposition": "auto",
         "type": "bar",
         "x": [
          0.94099998,
          0.94099998,
          0.96499997,
          0.96499997,
          0.98799998
         ],
         "xaxis": "x",
         "y": [
          "Skittles wildberry",
          "Skittles original",
          "Milky Way Simply Caramel",
          "Sugar Babies",
          "Reese's stuffed with pieces"
         ],
         "yaxis": "y"
        }
       ],
       "layout": {
        "barmode": "relative",
        "legend": {
         "tracegroupgap": 0
        },
        "template": {
         "data": {
          "bar": [
           {
            "error_x": {
             "color": "rgb(36,36,36)"
            },
            "error_y": {
             "color": "rgb(36,36,36)"
            },
            "marker": {
             "line": {
              "color": "white",
              "width": 0.5
             },
             "pattern": {
              "fillmode": "overlay",
              "size": 10,
              "solidity": 0.2
             }
            },
            "type": "bar"
           }
          ],
          "barpolar": [
           {
            "marker": {
             "line": {
              "color": "white",
              "width": 0.5
             },
             "pattern": {
              "fillmode": "overlay",
              "size": 10,
              "solidity": 0.2
             }
            },
            "type": "barpolar"
           }
          ],
          "carpet": [
           {
            "aaxis": {
             "endlinecolor": "rgb(36,36,36)",
             "gridcolor": "white",
             "linecolor": "white",
             "minorgridcolor": "white",
             "startlinecolor": "rgb(36,36,36)"
            },
            "baxis": {
             "endlinecolor": "rgb(36,36,36)",
             "gridcolor": "white",
             "linecolor": "white",
             "minorgridcolor": "white",
             "startlinecolor": "rgb(36,36,36)"
            },
            "type": "carpet"
           }
          ],
          "choropleth": [
           {
            "colorbar": {
             "outlinewidth": 1,
             "tickcolor": "rgb(36,36,36)",
             "ticks": "outside"
            },
            "type": "choropleth"
           }
          ],
          "contour": [
           {
            "colorbar": {
             "outlinewidth": 1,
             "tickcolor": "rgb(36,36,36)",
             "ticks": "outside"
            },
            "colorscale": [
             [
              0,
              "#440154"
             ],
             [
              0.1111111111111111,
              "#482878"
             ],
             [
              0.2222222222222222,
              "#3e4989"
             ],
             [
              0.3333333333333333,
              "#31688e"
             ],
             [
              0.4444444444444444,
              "#26828e"
             ],
             [
              0.5555555555555556,
              "#1f9e89"
             ],
             [
              0.6666666666666666,
              "#35b779"
             ],
             [
              0.7777777777777778,
              "#6ece58"
             ],
             [
              0.8888888888888888,
              "#b5de2b"
             ],
             [
              1,
              "#fde725"
             ]
            ],
            "type": "contour"
           }
          ],
          "contourcarpet": [
           {
            "colorbar": {
             "outlinewidth": 1,
             "tickcolor": "rgb(36,36,36)",
             "ticks": "outside"
            },
            "type": "contourcarpet"
           }
          ],
          "heatmap": [
           {
            "colorbar": {
             "outlinewidth": 1,
             "tickcolor": "rgb(36,36,36)",
             "ticks": "outside"
            },
            "colorscale": [
             [
              0,
              "#440154"
             ],
             [
              0.1111111111111111,
              "#482878"
             ],
             [
              0.2222222222222222,
              "#3e4989"
             ],
             [
              0.3333333333333333,
              "#31688e"
             ],
             [
              0.4444444444444444,
              "#26828e"
             ],
             [
              0.5555555555555556,
              "#1f9e89"
             ],
             [
              0.6666666666666666,
              "#35b779"
             ],
             [
              0.7777777777777778,
              "#6ece58"
             ],
             [
              0.8888888888888888,
              "#b5de2b"
             ],
             [
              1,
              "#fde725"
             ]
            ],
            "type": "heatmap"
           }
          ],
          "heatmapgl": [
           {
            "colorbar": {
             "outlinewidth": 1,
             "tickcolor": "rgb(36,36,36)",
             "ticks": "outside"
            },
            "colorscale": [
             [
              0,
              "#440154"
             ],
             [
              0.1111111111111111,
              "#482878"
             ],
             [
              0.2222222222222222,
              "#3e4989"
             ],
             [
              0.3333333333333333,
              "#31688e"
             ],
             [
              0.4444444444444444,
              "#26828e"
             ],
             [
              0.5555555555555556,
              "#1f9e89"
             ],
             [
              0.6666666666666666,
              "#35b779"
             ],
             [
              0.7777777777777778,
              "#6ece58"
             ],
             [
              0.8888888888888888,
              "#b5de2b"
             ],
             [
              1,
              "#fde725"
             ]
            ],
            "type": "heatmapgl"
           }
          ],
          "histogram": [
           {
            "marker": {
             "line": {
              "color": "white",
              "width": 0.6
             }
            },
            "type": "histogram"
           }
          ],
          "histogram2d": [
           {
            "colorbar": {
             "outlinewidth": 1,
             "tickcolor": "rgb(36,36,36)",
             "ticks": "outside"
            },
            "colorscale": [
             [
              0,
              "#440154"
             ],
             [
              0.1111111111111111,
              "#482878"
             ],
             [
              0.2222222222222222,
              "#3e4989"
             ],
             [
              0.3333333333333333,
              "#31688e"
             ],
             [
              0.4444444444444444,
              "#26828e"
             ],
             [
              0.5555555555555556,
              "#1f9e89"
             ],
             [
              0.6666666666666666,
              "#35b779"
             ],
             [
              0.7777777777777778,
              "#6ece58"
             ],
             [
              0.8888888888888888,
              "#b5de2b"
             ],
             [
              1,
              "#fde725"
             ]
            ],
            "type": "histogram2d"
           }
          ],
          "histogram2dcontour": [
           {
            "colorbar": {
             "outlinewidth": 1,
             "tickcolor": "rgb(36,36,36)",
             "ticks": "outside"
            },
            "colorscale": [
             [
              0,
              "#440154"
             ],
             [
              0.1111111111111111,
              "#482878"
             ],
             [
              0.2222222222222222,
              "#3e4989"
             ],
             [
              0.3333333333333333,
              "#31688e"
             ],
             [
              0.4444444444444444,
              "#26828e"
             ],
             [
              0.5555555555555556,
              "#1f9e89"
             ],
             [
              0.6666666666666666,
              "#35b779"
             ],
             [
              0.7777777777777778,
              "#6ece58"
             ],
             [
              0.8888888888888888,
              "#b5de2b"
             ],
             [
              1,
              "#fde725"
             ]
            ],
            "type": "histogram2dcontour"
           }
          ],
          "mesh3d": [
           {
            "colorbar": {
             "outlinewidth": 1,
             "tickcolor": "rgb(36,36,36)",
             "ticks": "outside"
            },
            "type": "mesh3d"
           }
          ],
          "parcoords": [
           {
            "line": {
             "colorbar": {
              "outlinewidth": 1,
              "tickcolor": "rgb(36,36,36)",
              "ticks": "outside"
             }
            },
            "type": "parcoords"
           }
          ],
          "pie": [
           {
            "automargin": true,
            "type": "pie"
           }
          ],
          "scatter": [
           {
            "fillpattern": {
             "fillmode": "overlay",
             "size": 10,
             "solidity": 0.2
            },
            "type": "scatter"
           }
          ],
          "scatter3d": [
           {
            "line": {
             "colorbar": {
              "outlinewidth": 1,
              "tickcolor": "rgb(36,36,36)",
              "ticks": "outside"
             }
            },
            "marker": {
             "colorbar": {
              "outlinewidth": 1,
              "tickcolor": "rgb(36,36,36)",
              "ticks": "outside"
             }
            },
            "type": "scatter3d"
           }
          ],
          "scattercarpet": [
           {
            "marker": {
             "colorbar": {
              "outlinewidth": 1,
              "tickcolor": "rgb(36,36,36)",
              "ticks": "outside"
             }
            },
            "type": "scattercarpet"
           }
          ],
          "scattergeo": [
           {
            "marker": {
             "colorbar": {
              "outlinewidth": 1,
              "tickcolor": "rgb(36,36,36)",
              "ticks": "outside"
             }
            },
            "type": "scattergeo"
           }
          ],
          "scattergl": [
           {
            "marker": {
             "colorbar": {
              "outlinewidth": 1,
              "tickcolor": "rgb(36,36,36)",
              "ticks": "outside"
             }
            },
            "type": "scattergl"
           }
          ],
          "scattermapbox": [
           {
            "marker": {
             "colorbar": {
              "outlinewidth": 1,
              "tickcolor": "rgb(36,36,36)",
              "ticks": "outside"
             }
            },
            "type": "scattermapbox"
           }
          ],
          "scatterpolar": [
           {
            "marker": {
             "colorbar": {
              "outlinewidth": 1,
              "tickcolor": "rgb(36,36,36)",
              "ticks": "outside"
             }
            },
            "type": "scatterpolar"
           }
          ],
          "scatterpolargl": [
           {
            "marker": {
             "colorbar": {
              "outlinewidth": 1,
              "tickcolor": "rgb(36,36,36)",
              "ticks": "outside"
             }
            },
            "type": "scatterpolargl"
           }
          ],
          "scatterternary": [
           {
            "marker": {
             "colorbar": {
              "outlinewidth": 1,
              "tickcolor": "rgb(36,36,36)",
              "ticks": "outside"
             }
            },
            "type": "scatterternary"
           }
          ],
          "surface": [
           {
            "colorbar": {
             "outlinewidth": 1,
             "tickcolor": "rgb(36,36,36)",
             "ticks": "outside"
            },
            "colorscale": [
             [
              0,
              "#440154"
             ],
             [
              0.1111111111111111,
              "#482878"
             ],
             [
              0.2222222222222222,
              "#3e4989"
             ],
             [
              0.3333333333333333,
              "#31688e"
             ],
             [
              0.4444444444444444,
              "#26828e"
             ],
             [
              0.5555555555555556,
              "#1f9e89"
             ],
             [
              0.6666666666666666,
              "#35b779"
             ],
             [
              0.7777777777777778,
              "#6ece58"
             ],
             [
              0.8888888888888888,
              "#b5de2b"
             ],
             [
              1,
              "#fde725"
             ]
            ],
            "type": "surface"
           }
          ],
          "table": [
           {
            "cells": {
             "fill": {
              "color": "rgb(237,237,237)"
             },
             "line": {
              "color": "white"
             }
            },
            "header": {
             "fill": {
              "color": "rgb(217,217,217)"
             },
             "line": {
              "color": "white"
             }
            },
            "type": "table"
           }
          ]
         },
         "layout": {
          "annotationdefaults": {
           "arrowhead": 0,
           "arrowwidth": 1
          },
          "autotypenumbers": "strict",
          "coloraxis": {
           "colorbar": {
            "outlinewidth": 1,
            "tickcolor": "rgb(36,36,36)",
            "ticks": "outside"
           }
          },
          "colorscale": {
           "diverging": [
            [
             0,
             "rgb(103,0,31)"
            ],
            [
             0.1,
             "rgb(178,24,43)"
            ],
            [
             0.2,
             "rgb(214,96,77)"
            ],
            [
             0.3,
             "rgb(244,165,130)"
            ],
            [
             0.4,
             "rgb(253,219,199)"
            ],
            [
             0.5,
             "rgb(247,247,247)"
            ],
            [
             0.6,
             "rgb(209,229,240)"
            ],
            [
             0.7,
             "rgb(146,197,222)"
            ],
            [
             0.8,
             "rgb(67,147,195)"
            ],
            [
             0.9,
             "rgb(33,102,172)"
            ],
            [
             1,
             "rgb(5,48,97)"
            ]
           ],
           "sequential": [
            [
             0,
             "#440154"
            ],
            [
             0.1111111111111111,
             "#482878"
            ],
            [
             0.2222222222222222,
             "#3e4989"
            ],
            [
             0.3333333333333333,
             "#31688e"
            ],
            [
             0.4444444444444444,
             "#26828e"
            ],
            [
             0.5555555555555556,
             "#1f9e89"
            ],
            [
             0.6666666666666666,
             "#35b779"
            ],
            [
             0.7777777777777778,
             "#6ece58"
            ],
            [
             0.8888888888888888,
             "#b5de2b"
            ],
            [
             1,
             "#fde725"
            ]
           ],
           "sequentialminus": [
            [
             0,
             "#440154"
            ],
            [
             0.1111111111111111,
             "#482878"
            ],
            [
             0.2222222222222222,
             "#3e4989"
            ],
            [
             0.3333333333333333,
             "#31688e"
            ],
            [
             0.4444444444444444,
             "#26828e"
            ],
            [
             0.5555555555555556,
             "#1f9e89"
            ],
            [
             0.6666666666666666,
             "#35b779"
            ],
            [
             0.7777777777777778,
             "#6ece58"
            ],
            [
             0.8888888888888888,
             "#b5de2b"
            ],
            [
             1,
             "#fde725"
            ]
           ]
          },
          "colorway": [
           "#1F77B4",
           "#FF7F0E",
           "#2CA02C",
           "#D62728",
           "#9467BD",
           "#8C564B",
           "#E377C2",
           "#7F7F7F",
           "#BCBD22",
           "#17BECF"
          ],
          "font": {
           "color": "rgb(36,36,36)"
          },
          "geo": {
           "bgcolor": "white",
           "lakecolor": "white",
           "landcolor": "white",
           "showlakes": true,
           "showland": true,
           "subunitcolor": "white"
          },
          "hoverlabel": {
           "align": "left"
          },
          "hovermode": "closest",
          "mapbox": {
           "style": "light"
          },
          "paper_bgcolor": "white",
          "plot_bgcolor": "white",
          "polar": {
           "angularaxis": {
            "gridcolor": "rgb(232,232,232)",
            "linecolor": "rgb(36,36,36)",
            "showgrid": false,
            "showline": true,
            "ticks": "outside"
           },
           "bgcolor": "white",
           "radialaxis": {
            "gridcolor": "rgb(232,232,232)",
            "linecolor": "rgb(36,36,36)",
            "showgrid": false,
            "showline": true,
            "ticks": "outside"
           }
          },
          "scene": {
           "xaxis": {
            "backgroundcolor": "white",
            "gridcolor": "rgb(232,232,232)",
            "gridwidth": 2,
            "linecolor": "rgb(36,36,36)",
            "showbackground": true,
            "showgrid": false,
            "showline": true,
            "ticks": "outside",
            "zeroline": false,
            "zerolinecolor": "rgb(36,36,36)"
           },
           "yaxis": {
            "backgroundcolor": "white",
            "gridcolor": "rgb(232,232,232)",
            "gridwidth": 2,
            "linecolor": "rgb(36,36,36)",
            "showbackground": true,
            "showgrid": false,
            "showline": true,
            "ticks": "outside",
            "zeroline": false,
            "zerolinecolor": "rgb(36,36,36)"
           },
           "zaxis": {
            "backgroundcolor": "white",
            "gridcolor": "rgb(232,232,232)",
            "gridwidth": 2,
            "linecolor": "rgb(36,36,36)",
            "showbackground": true,
            "showgrid": false,
            "showline": true,
            "ticks": "outside",
            "zeroline": false,
            "zerolinecolor": "rgb(36,36,36)"
           }
          },
          "shapedefaults": {
           "fillcolor": "black",
           "line": {
            "width": 0
           },
           "opacity": 0.3
          },
          "ternary": {
           "aaxis": {
            "gridcolor": "rgb(232,232,232)",
            "linecolor": "rgb(36,36,36)",
            "showgrid": false,
            "showline": true,
            "ticks": "outside"
           },
           "baxis": {
            "gridcolor": "rgb(232,232,232)",
            "linecolor": "rgb(36,36,36)",
            "showgrid": false,
            "showline": true,
            "ticks": "outside"
           },
           "bgcolor": "white",
           "caxis": {
            "gridcolor": "rgb(232,232,232)",
            "linecolor": "rgb(36,36,36)",
            "showgrid": false,
            "showline": true,
            "ticks": "outside"
           }
          },
          "title": {
           "x": 0.05
          },
          "xaxis": {
           "automargin": true,
           "gridcolor": "rgb(232,232,232)",
           "linecolor": "rgb(36,36,36)",
           "showgrid": false,
           "showline": true,
           "ticks": "outside",
           "title": {
            "standoff": 15
           },
           "zeroline": false,
           "zerolinecolor": "rgb(36,36,36)"
          },
          "yaxis": {
           "automargin": true,
           "gridcolor": "rgb(232,232,232)",
           "linecolor": "rgb(36,36,36)",
           "showgrid": false,
           "showline": true,
           "ticks": "outside",
           "title": {
            "standoff": 15
           },
           "zeroline": false,
           "zerolinecolor": "rgb(36,36,36)"
          }
         }
        },
        "title": {
         "text": "Top 5 Candies based on the<br><b> Sugar Percentage"
        },
        "xaxis": {
         "anchor": "y",
         "domain": [
          0,
          1
         ],
         "title": {
          "text": "Sugarpercent"
         }
        },
        "yaxis": {
         "anchor": "x",
         "domain": [
          0,
          1
         ],
         "title": {
          "text": "Competitorname"
         }
        }
       }
      }
     },
     "metadata": {},
     "output_type": "display_data"
    }
   ],
   "source": [
    "px.bar(dff.sort_values(by='Sugarpercent', ascending=True).tail(5),\n",
    "        y='Competitorname',\n",
    "          x='Sugarpercent',\n",
    "          template='simple_white',\n",
    "          title='Top 5 Candies based on the<br><b> Sugar Percentage')"
   ]
  },
  {
   "cell_type": "code",
   "execution_count": 8,
   "metadata": {},
   "outputs": [
    {
     "data": {
      "text/plain": [
       "Chocolate\n",
       "0    42.142257\n",
       "1    60.921529\n",
       "Name: Winpercent, dtype: float64"
      ]
     },
     "execution_count": 8,
     "metadata": {},
     "output_type": "execute_result"
    }
   ],
   "source": [
    "df.groupby('Chocolate')['Winpercent'].mean()"
   ]
  },
  {
   "cell_type": "code",
   "execution_count": 9,
   "metadata": {},
   "outputs": [
    {
     "name": "stdout",
     "output_type": "stream",
     "text": [
      "Total chocolate candies are: 37\n"
     ]
    }
   ],
   "source": [
    "#Total candies with chocolate\n",
    "print('Total chocolate candies are:', dff['Chocolate'].sum())"
   ]
  },
  {
   "cell_type": "code",
   "execution_count": 10,
   "metadata": {},
   "outputs": [],
   "source": [
    "# px.bar(dff.query('Chocolate == 1').sort_values(by='Winpercent', ascending=True).tail(5),\n",
    "#        x='Winpercent',y='Competitorname',\n",
    "#        title='Top 5 <b>Cholcoate</b> Candies based on the Win Percentage',\n",
    "#        template='simple_white',\n",
    "#        text_auto=True)"
   ]
  },
  {
   "cell_type": "code",
   "execution_count": 11,
   "metadata": {},
   "outputs": [
    {
     "name": "stdout",
     "output_type": "stream",
     "text": [
      "Total Fruity candies are: 37\n"
     ]
    }
   ],
   "source": [
    "print('Total Fruity candies are:', dff['Chocolate'].sum())"
   ]
  },
  {
   "cell_type": "code",
   "execution_count": 12,
   "metadata": {},
   "outputs": [],
   "source": [
    "# px.bar(dff.query('Fruity == 1').sort_values(by='Winpercent', ascending=True).tail(5),\n",
    "#        x='Winpercent',y='Competitorname',\n",
    "#        title='Top 5 <b>Fruity</b> Candies based on the Win Percentage',\n",
    "#        template='simple_white',\n",
    "#        text_auto=True)"
   ]
  },
  {
   "cell_type": "code",
   "execution_count": 13,
   "metadata": {},
   "outputs": [],
   "source": [
    "# print('Total Caramel candies are:', dff['Chocolate'].sum())\n",
    "\n",
    "# px.bar(dff.query('Caramel == 1').sort_values(by='Winpercent', ascending=True).tail(5),\n",
    "#        x='Winpercent',y='Competitorname',\n",
    "#        title='Top 5 <b>Caramel</b> Candies based on the Win Percentage',\n",
    "#        template='simple_white',\n",
    "#        text_auto=True)"
   ]
  },
  {
   "cell_type": "code",
   "execution_count": 14,
   "metadata": {},
   "outputs": [],
   "source": [
    "# print('Total Peanutyalmondy candies are:', dff['Chocolate'].sum())\n",
    "\n",
    "# px.bar(dff.query('Peanutyalmondy == 1').sort_values(by='Winpercent', ascending=True).tail(5),\n",
    "#        x='Winpercent',y='Competitorname',\n",
    "#        title='Top 5 <b>Peanutyalmondy</b> Candies based on the Win Percentage',\n",
    "#        template='simple_white',\n",
    "#        text_auto=True)"
   ]
  },
  {
   "cell_type": "code",
   "execution_count": 15,
   "metadata": {},
   "outputs": [],
   "source": [
    "# print('Total Nougat candies are:', dff['Chocolate'].sum())\n",
    "\n",
    "# px.bar(dff.query('Nougat == 1').sort_values(by='Winpercent', ascending=True).tail(5),\n",
    "#        x='Winpercent',y='Competitorname',\n",
    "#        title='Top 5 <b>Nougat</b> Candies based on the Win Percentage',\n",
    "#        template='simple_white',\n",
    "#        text_auto=True)"
   ]
  },
  {
   "cell_type": "code",
   "execution_count": 16,
   "metadata": {},
   "outputs": [],
   "source": [
    "# print('Total Crispedricewafer candies are:', dff['Chocolate'].sum())\n",
    "\n",
    "# px.bar(dff.query('Crispedricewafer == 1').sort_values(by='Winpercent', ascending=True).tail(5),\n",
    "#        x='Winpercent',y='Competitorname',\n",
    "#        title='Top 5 <b>Crispedricewafer</b> Candies based on the Win Percentage',\n",
    "#        template='simple_white',\n",
    "#        text_auto=True)"
   ]
  },
  {
   "cell_type": "code",
   "execution_count": 17,
   "metadata": {},
   "outputs": [],
   "source": [
    "import dash_bootstrap_components as dbc"
   ]
  },
  {
   "cell_type": "code",
   "execution_count": 18,
   "metadata": {},
   "outputs": [
    {
     "data": {
      "text/plain": [
       "['Chocolate',\n",
       " 'Fruity',\n",
       " 'Caramel',\n",
       " 'Peanutyalmondy',\n",
       " 'Nougat',\n",
       " 'Crispedricewafer']"
      ]
     },
     "execution_count": 18,
     "metadata": {},
     "output_type": "execute_result"
    }
   ],
   "source": [
    "candies_type = dff.iloc[0,1:7].index.to_list()\n",
    "candies_type"
   ]
  },
  {
   "cell_type": "code",
   "execution_count": 19,
   "metadata": {},
   "outputs": [
    {
     "data": {
      "text/html": [
       "<div>\n",
       "<style scoped>\n",
       "    .dataframe tbody tr th:only-of-type {\n",
       "        vertical-align: middle;\n",
       "    }\n",
       "\n",
       "    .dataframe tbody tr th {\n",
       "        vertical-align: top;\n",
       "    }\n",
       "\n",
       "    .dataframe thead th {\n",
       "        text-align: right;\n",
       "    }\n",
       "</style>\n",
       "<table border=\"1\" class=\"dataframe\">\n",
       "  <thead>\n",
       "    <tr style=\"text-align: right;\">\n",
       "      <th></th>\n",
       "      <th>Competitorname</th>\n",
       "      <th>Chocolate</th>\n",
       "      <th>Fruity</th>\n",
       "      <th>Caramel</th>\n",
       "      <th>Peanutyalmondy</th>\n",
       "      <th>Nougat</th>\n",
       "      <th>Crispedricewafer</th>\n",
       "      <th>Hard</th>\n",
       "      <th>Bar</th>\n",
       "      <th>Pluribus</th>\n",
       "      <th>Sugarpercent</th>\n",
       "      <th>Pricepercent</th>\n",
       "      <th>Winpercent</th>\n",
       "    </tr>\n",
       "  </thead>\n",
       "  <tbody>\n",
       "    <tr>\n",
       "      <th>0</th>\n",
       "      <td>100 Grand</td>\n",
       "      <td>1</td>\n",
       "      <td>0</td>\n",
       "      <td>1</td>\n",
       "      <td>0</td>\n",
       "      <td>0</td>\n",
       "      <td>1</td>\n",
       "      <td>0</td>\n",
       "      <td>1</td>\n",
       "      <td>0</td>\n",
       "      <td>0.732</td>\n",
       "      <td>0.860</td>\n",
       "      <td>66.971725</td>\n",
       "    </tr>\n",
       "    <tr>\n",
       "      <th>1</th>\n",
       "      <td>3 Musketeers</td>\n",
       "      <td>1</td>\n",
       "      <td>0</td>\n",
       "      <td>0</td>\n",
       "      <td>0</td>\n",
       "      <td>1</td>\n",
       "      <td>0</td>\n",
       "      <td>0</td>\n",
       "      <td>1</td>\n",
       "      <td>0</td>\n",
       "      <td>0.604</td>\n",
       "      <td>0.511</td>\n",
       "      <td>67.602936</td>\n",
       "    </tr>\n",
       "    <tr>\n",
       "      <th>2</th>\n",
       "      <td>One dime</td>\n",
       "      <td>0</td>\n",
       "      <td>0</td>\n",
       "      <td>0</td>\n",
       "      <td>0</td>\n",
       "      <td>0</td>\n",
       "      <td>0</td>\n",
       "      <td>0</td>\n",
       "      <td>0</td>\n",
       "      <td>0</td>\n",
       "      <td>0.011</td>\n",
       "      <td>0.116</td>\n",
       "      <td>32.261086</td>\n",
       "    </tr>\n",
       "    <tr>\n",
       "      <th>3</th>\n",
       "      <td>One quarter</td>\n",
       "      <td>0</td>\n",
       "      <td>0</td>\n",
       "      <td>0</td>\n",
       "      <td>0</td>\n",
       "      <td>0</td>\n",
       "      <td>0</td>\n",
       "      <td>0</td>\n",
       "      <td>0</td>\n",
       "      <td>0</td>\n",
       "      <td>0.011</td>\n",
       "      <td>0.511</td>\n",
       "      <td>46.116505</td>\n",
       "    </tr>\n",
       "    <tr>\n",
       "      <th>4</th>\n",
       "      <td>Air Heads</td>\n",
       "      <td>0</td>\n",
       "      <td>1</td>\n",
       "      <td>0</td>\n",
       "      <td>0</td>\n",
       "      <td>0</td>\n",
       "      <td>0</td>\n",
       "      <td>0</td>\n",
       "      <td>0</td>\n",
       "      <td>0</td>\n",
       "      <td>0.906</td>\n",
       "      <td>0.511</td>\n",
       "      <td>52.341465</td>\n",
       "    </tr>\n",
       "    <tr>\n",
       "      <th>...</th>\n",
       "      <td>...</td>\n",
       "      <td>...</td>\n",
       "      <td>...</td>\n",
       "      <td>...</td>\n",
       "      <td>...</td>\n",
       "      <td>...</td>\n",
       "      <td>...</td>\n",
       "      <td>...</td>\n",
       "      <td>...</td>\n",
       "      <td>...</td>\n",
       "      <td>...</td>\n",
       "      <td>...</td>\n",
       "      <td>...</td>\n",
       "    </tr>\n",
       "    <tr>\n",
       "      <th>78</th>\n",
       "      <td>Trolli Sour Bites</td>\n",
       "      <td>0</td>\n",
       "      <td>1</td>\n",
       "      <td>0</td>\n",
       "      <td>0</td>\n",
       "      <td>0</td>\n",
       "      <td>0</td>\n",
       "      <td>0</td>\n",
       "      <td>0</td>\n",
       "      <td>1</td>\n",
       "      <td>0.313</td>\n",
       "      <td>0.255</td>\n",
       "      <td>47.173229</td>\n",
       "    </tr>\n",
       "    <tr>\n",
       "      <th>79</th>\n",
       "      <td>Twix</td>\n",
       "      <td>1</td>\n",
       "      <td>0</td>\n",
       "      <td>1</td>\n",
       "      <td>0</td>\n",
       "      <td>0</td>\n",
       "      <td>1</td>\n",
       "      <td>0</td>\n",
       "      <td>1</td>\n",
       "      <td>0</td>\n",
       "      <td>0.546</td>\n",
       "      <td>0.906</td>\n",
       "      <td>81.642914</td>\n",
       "    </tr>\n",
       "    <tr>\n",
       "      <th>80</th>\n",
       "      <td>Twizzlers</td>\n",
       "      <td>0</td>\n",
       "      <td>1</td>\n",
       "      <td>0</td>\n",
       "      <td>0</td>\n",
       "      <td>0</td>\n",
       "      <td>0</td>\n",
       "      <td>0</td>\n",
       "      <td>0</td>\n",
       "      <td>0</td>\n",
       "      <td>0.220</td>\n",
       "      <td>0.116</td>\n",
       "      <td>45.466282</td>\n",
       "    </tr>\n",
       "    <tr>\n",
       "      <th>82</th>\n",
       "      <td>Welch's Fruit Snacks</td>\n",
       "      <td>0</td>\n",
       "      <td>1</td>\n",
       "      <td>0</td>\n",
       "      <td>0</td>\n",
       "      <td>0</td>\n",
       "      <td>0</td>\n",
       "      <td>0</td>\n",
       "      <td>0</td>\n",
       "      <td>1</td>\n",
       "      <td>0.313</td>\n",
       "      <td>0.313</td>\n",
       "      <td>44.375519</td>\n",
       "    </tr>\n",
       "    <tr>\n",
       "      <th>84</th>\n",
       "      <td>Whoppers</td>\n",
       "      <td>1</td>\n",
       "      <td>0</td>\n",
       "      <td>0</td>\n",
       "      <td>0</td>\n",
       "      <td>0</td>\n",
       "      <td>1</td>\n",
       "      <td>0</td>\n",
       "      <td>0</td>\n",
       "      <td>1</td>\n",
       "      <td>0.872</td>\n",
       "      <td>0.848</td>\n",
       "      <td>49.524113</td>\n",
       "    </tr>\n",
       "  </tbody>\n",
       "</table>\n",
       "<p>70 rows × 13 columns</p>\n",
       "</div>"
      ],
      "text/plain": [
       "          Competitorname  Chocolate  Fruity  Caramel  Peanutyalmondy  Nougat  \\\n",
       "0              100 Grand          1       0        1               0       0   \n",
       "1           3 Musketeers          1       0        0               0       1   \n",
       "2               One dime          0       0        0               0       0   \n",
       "3            One quarter          0       0        0               0       0   \n",
       "4              Air Heads          0       1        0               0       0   \n",
       "..                   ...        ...     ...      ...             ...     ...   \n",
       "78     Trolli Sour Bites          0       1        0               0       0   \n",
       "79                  Twix          1       0        1               0       0   \n",
       "80             Twizzlers          0       1        0               0       0   \n",
       "82  Welch's Fruit Snacks          0       1        0               0       0   \n",
       "84              Whoppers          1       0        0               0       0   \n",
       "\n",
       "    Crispedricewafer  Hard  Bar  Pluribus  Sugarpercent  Pricepercent  \\\n",
       "0                  1     0    1         0         0.732         0.860   \n",
       "1                  0     0    1         0         0.604         0.511   \n",
       "2                  0     0    0         0         0.011         0.116   \n",
       "3                  0     0    0         0         0.011         0.511   \n",
       "4                  0     0    0         0         0.906         0.511   \n",
       "..               ...   ...  ...       ...           ...           ...   \n",
       "78                 0     0    0         1         0.313         0.255   \n",
       "79                 1     0    1         0         0.546         0.906   \n",
       "80                 0     0    0         0         0.220         0.116   \n",
       "82                 0     0    0         1         0.313         0.313   \n",
       "84                 1     0    0         1         0.872         0.848   \n",
       "\n",
       "    Winpercent  \n",
       "0    66.971725  \n",
       "1    67.602936  \n",
       "2    32.261086  \n",
       "3    46.116505  \n",
       "4    52.341465  \n",
       "..         ...  \n",
       "78   47.173229  \n",
       "79   81.642914  \n",
       "80   45.466282  \n",
       "82   44.375519  \n",
       "84   49.524113  \n",
       "\n",
       "[70 rows x 13 columns]"
      ]
     },
     "execution_count": 19,
     "metadata": {},
     "output_type": "execute_result"
    }
   ],
   "source": [
    "dff[dff['Hard'] == 0]"
   ]
  },
  {
   "cell_type": "code",
   "execution_count": 32,
   "metadata": {},
   "outputs": [
    {
     "data": {
      "text/html": [
       "\n",
       "        <iframe\n",
       "            width=\"100%\"\n",
       "            height=\"650\"\n",
       "            src=\"http://127.0.0.1:3060/\"\n",
       "            frameborder=\"0\"\n",
       "            allowfullscreen\n",
       "            \n",
       "        ></iframe>\n",
       "        "
      ],
      "text/plain": [
       "<IPython.lib.display.IFrame at 0x299104fe490>"
      ]
     },
     "metadata": {},
     "output_type": "display_data"
    }
   ],
   "source": [
    "app = dash.Dash(__name__, external_stylesheets = [dbc.themes.SUPERHERO, dbc.icons.BOOTSTRAP]) \n",
    "\n",
    "# card = dbc.Card(\n",
    "#         dbc.CardBody([\n",
    "#             html.H4(children=[html.I(className='bi bi-bank me-2'),\n",
    "#                     'Profit']),\n",
    "#             html.H3('$82.1 M'),\n",
    "#             html.H6(html.I('10% vs LY', className='bi bi-caret-up-fill text-success'))\n",
    "# ]),\n",
    "# className='text-center m-4 bg-primary')\n",
    "\n",
    "# next line ccontaining cards side by side for KPIs\n",
    "\n",
    "card_orders = dbc.Card(\n",
    "                dbc.CardBody([\n",
    "                    html.H1([\n",
    "                        html.I(className='bi bi-1-circle-fill me-2'),'Reeses Peanut Butter Cup'],\n",
    "                        className='text-wrap'),\n",
    "                    html.H3(f'41.7 | Composite Score', className='text-decoration-underline text-success'),\n",
    "                    # html.Div([\n",
    "                    #     html.I('10.3%',className='bi bi-caret-up-fill text-success'),\n",
    "                    #     ' Vs LY'\n",
    "                    # ]),\n",
    "    ], className='border-start border-success border-5'\n",
    "    ), className='text-center m-4 shadow'\n",
    "    )\n",
    "\n",
    "card_profit = dbc.Card(\n",
    "                dbc.CardBody([\n",
    "                    html.H1([\n",
    "                    html.I(className='bi bi-2-circle-fill me-2'),'Reese Miniatures'],\n",
    "                        className='text-wrap'),\n",
    "                    html.H3(f'40.8 | Composite Score', className='text-decoration-underline text-success'),\n",
    "                    # html.Div([\n",
    "                    #     html.I('12.3%',className='bi bi-caret-up-fill text-success'),\n",
    "                    #     ' Vs LY'\n",
    "                    #     ]),\n",
    "    ], className='border-start border-success border-5'\n",
    "    ), className='text-center m-4 shadow'\n",
    ")\n",
    "\n",
    "card_sales = dbc.Card(\n",
    "                dbc.CardBody([\n",
    "                    html.H1([\n",
    "                        html.I(className='bi bi-3-circle-fill me-2'),'Twix'],\n",
    "                        className='text-wrap'),\n",
    "                    html.H3(f'40.4 | Composite Score', className='text-decoration-underline text-success'),\n",
    "                    # html.Div([\n",
    "                    #     html.I('20.3%',className='bi bi-caret-up-fill text-success'),\n",
    "                    #     ' Vs LY'\n",
    "                    # ]),\n",
    "    ], className='border-start border-success border-5'\n",
    "    ), className='text-center m-4 shadow'\n",
    ")\n",
    "\n",
    "Img_card = dbc.Card([\n",
    "    dbc.CardImg(\n",
    "        src= 'https://assets.editorial.aetnd.com/uploads/2009/11/halloween-gettyimages-1424736925.jpg?width=1920&height=960&crop=1920%3A960%2Csmart&quality=75&auto=webp', top=True,\n",
    "        className='img-fluid'),\n",
    "    dbc.CardBody(\n",
    "        [\n",
    "        html.H2('More Candies for the Horror Show', className='text-primary fw-bolder'),\n",
    "        html.Div('This Year The Trick-or-Treating Season Will Be Special!')\n",
    "        #html.Div('street life for real',className='small')\n",
    "    ]\n",
    "    )], \n",
    "        className='shadow m-2',\n",
    "        style={'maxwidth':200,\n",
    "               'maxheight':50}\n",
    "        )\n",
    "\n",
    "app.layout =  dbc.Container([\n",
    "                    html.P('What Candies are We Getting for Trick-Or-Treat This Year', className='text-center fw-bolder fs-1 text-warning'),\n",
    "                dbc.Row(\n",
    "                    html.Br()\n",
    "                ),\n",
    "                html.Div([\n",
    "                    html.P('The dataset contains the sample of 269,000 Matchups of 85 different Candy, and as an analyst the task is to select the Top 3 candies for this year Holloween season based on the multiple factors as present in the dataset.',\n",
    "                            className='text-wrap fs-3'),\n",
    "                    html.P('Approach:',className='fw-bolder text-decoration-underline fs-3'),\n",
    "                    html.Br(),\n",
    "                    html.P('The Composite Scores are calculated by giving weights to the \"Winpecent\", \"Sugarpercent\" and \"Pricepercent\"',className='fs-4'),\n",
    "                    html.P(\"- Winpercent is given a weightage of (50%) based on the consumer preferences\",className='fst-italic fs-4 fw-bold'),\n",
    "                    html.P(\"- Sugarpercent is given a weightage of (-30%) based on less sugar, giving importance to health\",className='fst-italic fs-4 fw-bold'),\n",
    "                    html.P(\"- Pricepercent is given a weightage of (-20%) assuming less price is favourable\",className='fst-italic fs-4 fw-bold')\n",
    "                        ]),\n",
    "                dbc.Row([\n",
    "                        dbc.Col(card_orders),\n",
    "                        dbc.Col(card_profit),\n",
    "                        dbc.Col(card_sales)\n",
    "                        ]),\n",
    "                dbc.Row([\n",
    "                    dbc.Col([\n",
    "                        html.P('Select the Candy type', className='fw-bold fst-italic text-decoration-underline'),\n",
    "                        dcc.Dropdown(  \n",
    "                        id='candy-type-dropdown',  \n",
    "                        options=candies_type,  \n",
    "                        value='Chocolate',  # Default value  \n",
    "                        clearable=False,\n",
    "                        className='text-black'),             \n",
    "                        dcc.Graph(id='top-candies-bar-chart')  \n",
    "                            ]),\n",
    "                    dbc.Col([\n",
    "                        html.P('Select the Candy structure', className='fw-bold fst-italic text-decoration-underline'),\n",
    "                        dcc.Dropdown(  \n",
    "                        id='candy-structure-dropdown',  \n",
    "                        options=[{'label':'Hard Candies','value':'Hard'},\n",
    "                             {'label':'Soft Candies','value':'Soft'}],  \n",
    "                        value='Soft',  # Default value  \n",
    "                        clearable=False,\n",
    "                        className='text-black'),             \n",
    "                        dcc.Graph(id='top-candies_structure')\n",
    "                        ])\n",
    "                    ]),\n",
    "                dbc.Row(\n",
    "                    html.Br()\n",
    "                ),\n",
    "                dbc.Row(\n",
    "                    html.Div([\n",
    "                        #html.H4('Interactive scatter plot with Iris dataset'),\n",
    "                        dcc.Graph(id=\"scatter-plot\"),\n",
    "                        html.P(\"Filter by Win %\", className='fw-bolder fst-italic text-decoration-underline'),\n",
    "                        dcc.RangeSlider(\n",
    "                            id='range-slider',\n",
    "                            min=20, max=90, step=10,\n",
    "                            marks={20: '20',40:'40', 60:'60', 80:'80', 90: '90'},\n",
    "                            value=[70, 90],\n",
    "                            className='text-black fsw-bolder'\n",
    "                                        ),\n",
    "                            ]) \n",
    "                            ),\n",
    "                dbc.Row([\n",
    "                    dbc.Col([\n",
    "                    Img_card\n",
    "                    ], width=6),\n",
    "                    dbc.Col([\n",
    "                        html.Br(),\n",
    "                        html.P('- Twix has the highest price impact while being moderate in sugar content in chocolate and crispedricewafer bar.', className='text-primary fs-3 fw-bold'),\n",
    "                        html.P('- Reeses stuffed with pieces has the highest sugar content amongst the other candies while being in the moderate section of price.  ', className='text-primary fs-3 fw-bold'),\n",
    "                        html.P('- Reese miniatures have the lowest sugar content with low price impact but have good win percentage amongst the other candies.', className='text-primary fs-3 fw-bold'),\n",
    "                        html.P('- Reese Peanutbutter cup has a good win percentage while have moderate impact of price in higher end of sugar portion.', className='text-primary fs-3 fw-bold')\n",
    "                    ])\n",
    "                    ])\n",
    "            ], fluid=True)  \n",
    "@app.callback(  \n",
    "    Output('top-candies-bar-chart', 'figure'),  \n",
    "    Input('candy-type-dropdown', 'value')  \n",
    ")  \n",
    "def update_chart(selected_candy_type):  \n",
    "    # Filter the dataframe based on the selected candy type  \n",
    "    filtered_df = dff[dff[selected_candy_type] == 1]  \n",
    "\n",
    "    # Get the top 5 candies based on win percent  \n",
    "    top_candies = filtered_df.sort_values(by='Winpercent', ascending=True).tail(5)  \n",
    "\n",
    "    # Create the bar chart  \n",
    "    fig = px.bar(top_candies,  \n",
    "                  x='Winpercent',  \n",
    "                  y='Competitorname',\n",
    "                  labels={'Competitorname':'<b>Candy Name','Winpercent':'<b>Win %'},  \n",
    "                  title=f'Which were the Top 5 <b>{selected_candy_type.capitalize()}</b> Candies that most of the people like?',  \n",
    "                  template='plotly_dark',  \n",
    "                  text_auto=True).update_traces(texttemplate = '<b>%{value:.0f}%',\n",
    "                                                marker_color='#0DEFFF')  \n",
    "\n",
    "    return fig \n",
    "#candies with structure hard or soft\n",
    "@app.callback(  \n",
    "    Output('top-candies_structure', 'figure'),  \n",
    "    Input('candy-structure-dropdown', 'value')  \n",
    ")  \n",
    "def update_chart(candy_structure):  \n",
    "      # Filter the dataframe based on the selected candy type  \n",
    "    if candy_structure == 'Hard':\n",
    "        dfs = dff[dff['Hard'] == 1]  \n",
    "    else:\n",
    "        dfs = dff[dff['Hard'] == 0]\n",
    "\n",
    "    # Get the top 5 candies based on win percent  \n",
    "    #candies_structure = dfs.sort_values(by='Winpercent', ascending=False).head(5)  \n",
    "\n",
    "    # Create the bar chart  \n",
    "    fig = px.bar(dfs.sort_values(by='Winpercent', ascending=True).tail(5),  \n",
    "                  x='Winpercent',  \n",
    "                  y='Competitorname',\n",
    "                  labels={'Competitorname':'<b>Candy Name','Winpercent':'<b>Win %'}, \n",
    "                  title=f'Which were the Top 5 <b>{candy_structure}</b> Candies Liked by People?',  \n",
    "                  template='plotly_dark',  \n",
    "                  text_auto=True).update_traces(texttemplate = '<b>%{value:.0f}%',\n",
    "                                                marker_color='#0DEFFF')  \n",
    "    return fig\n",
    "\n",
    "@app.callback(\n",
    "    Output(\"scatter-plot\", \"figure\"), \n",
    "    Input(\"range-slider\", \"value\"))\n",
    "\n",
    "def update_chart(slider_range):\n",
    "    low, high = slider_range\n",
    "    mask = dff[dff['Winpercent'].between(low,high)]\n",
    "\n",
    "    fig = px.scatter(mask, x='Sugarpercent', y='Pricepercent',\n",
    "            color='Competitorname',\n",
    "            size='Winpercent',\n",
    "            hover_data= ['Chocolate','Fruity','Caramel','Peanutyalmondy','Nougat','Crispedricewafer'],\n",
    "            hover_name='Competitorname',\n",
    "            size_max=50,\n",
    "            template='plotly_dark',\n",
    "            title=f'Is <b>Sugar</b> Content Having any Impact on the <b>Price Point</b> of Candies between following Win % {slider_range}?<br>(Hover on the bubbles to see more details)',\n",
    "            symbol='Competitorname'\n",
    "            )\n",
    "        \n",
    "    return fig\n",
    "\n",
    "if __name__ == '__main__':  \n",
    "    app.run_server(debug=True, port=3060)\n",
    "\n",
    "#link: http://127.0.0.1:3060 "
   ]
  },
  {
   "cell_type": "code",
   "execution_count": null,
   "metadata": {},
   "outputs": [],
   "source": []
  }
 ],
 "metadata": {
  "kernelspec": {
   "display_name": "base",
   "language": "python",
   "name": "python3"
  },
  "language_info": {
   "codemirror_mode": {
    "name": "ipython",
    "version": 3
   },
   "file_extension": ".py",
   "mimetype": "text/x-python",
   "name": "python",
   "nbconvert_exporter": "python",
   "pygments_lexer": "ipython3",
   "version": "3.9.13"
  }
 },
 "nbformat": 4,
 "nbformat_minor": 2
}
